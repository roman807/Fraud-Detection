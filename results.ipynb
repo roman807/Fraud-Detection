{
 "cells": [
  {
   "cell_type": "code",
   "execution_count": 3,
   "metadata": {},
   "outputs": [],
   "source": [
    "import numpy as np\n",
    "import pandas as pd\n",
    "import matplotlib.pyplot as plt\n",
    "from itertools import cycle\n",
    "from sklearn import svm, datasets\n",
    "from sklearn.metrics import roc_curve, auc\n",
    "from sklearn.model_selection import train_test_split\n",
    "#from sklearn.preprocessing import label_binarize\n",
    "from sklearn.preprocessing import LabelBinarizer\n",
    "#from sklearn.multiclass import OneVsRestClassifier\n",
    "from sklearn.linear_model import LogisticRegression\n",
    "from scipy import interp\n",
    "from sklearn.model_selection import KFold\n",
    "#from sklearn.preprocessing import StandardScaler\n",
    "import os\n",
    "os.chdir('/home/roman/Documents/Projects/Cost_Sensitive')"
   ]
  },
  {
   "cell_type": "code",
   "execution_count": 30,
   "metadata": {},
   "outputs": [],
   "source": [
    "# Prepare data (y_train and y_test)\n",
    "data = pd.read_csv('data/creditcard.csv')\n",
    "y = data.iloc[:, -1]\n",
    "n_splits = 5\n",
    "kf = KFold(n_splits=n_splits, random_state=123, shuffle=True)\n",
    "kf.get_n_splits(y)\n",
    "y_train_l, y_test_l = [], []\n",
    "for train_index, test_index in kf.split(y):\n",
    "    y_train_l.append(y.iloc[train_index])\n",
    "    y_test_l.append(y.iloc[test_index])\n",
    "# load results:\n",
    "y_pred_train_lr = np.load('results/y_pred_train_lr.npy')\n",
    "y_pred_test_lr = np.load('results/y_pred_test_lr.npy')\n",
    "y_pred_train_lr_probas = np.load('results/y_pred_train_lr_probas.npy')\n",
    "y_pred_test_lr_probas = np.load('results/y_pred_test_lr_probas.npy')\n",
    "y_pred_train_ann = np.load('results/y_pred_train_ann.npy')\n",
    "y_pred_test_ann = np.load('results/y_pred_test_ann.npy')\n",
    "y_pred_train_ann_probas = np.load('results/y_pred_train_ann_probas.npy')\n",
    "y_pred_test_ann_probas = np.load('results/y_pred_test_ann_probas.npy')\n",
    "y_pred_train_ann_cs = np.load('results/y_pred_train_ann_cs.npy')\n",
    "y_pred_test_ann_cs = np.load('results/y_pred_test_ann_cs.npy')\n",
    "y_pred_train_ann_cs_probas = np.load('results/y_pred_train_ann_cs_probas.npy')\n",
    "y_pred_test_ann_cs_probas = np.load('results/y_pred_test_ann_cs_probas.npy')"
   ]
  },
  {
   "cell_type": "code",
   "execution_count": 85,
   "metadata": {},
   "outputs": [],
   "source": [
    "# ROC curves\n",
    "def stack_y_probas(y_proba):\n",
    "    y_proba = np.hstack((y_proba, 1 - y_proba))\n",
    "    return np.array([y_proba[:int(y_proba.shape[0]/2)], y_proba[int(y_proba.shape[0]/2):]]).T\n",
    "y_test_2D = []\n",
    "for y_test in y_test_l:\n",
    "    y_test = LabelBinarizer().fit_transform(y_test)\n",
    "    y_test = np.hstack((y_test, 1 - y_test))\n",
    "    y_test_2D.append(y_test)\n",
    "y_pred_test_lr_probas_2D, y_pred_test_ann_probas_2D, y_pred_test_ann_cs_probas_2D = [], [], []\n",
    "for i in range(n_splits):\n",
    "    y_pred_test_lr_probas_2D.append(stack_y_probas(y_pred_test_lr_probas[i]))\n",
    "    y_pred_test_ann_probas_2D.append(stack_y_probas(y_pred_test_ann_probas[i]))\n",
    "    y_pred_test_ann_cs_probas_2D.append(stack_y_probas(y_pred_test_ann_cs_probas[i]))"
   ]
  },
  {
   "cell_type": "code",
   "execution_count": 83,
   "metadata": {},
   "outputs": [],
   "source": [
    "y_pred_test_ann_probas_2D[0]"
   ]
  },
  {
   "cell_type": "code",
   "execution_count": 87,
   "metadata": {},
   "outputs": [],
   "source": [
    "def create_roc_auc(y_true, y_pred):\n",
    "    # Compute ROC curve and ROC area for each class\n",
    "    fpr, tpr, roc_auc = dict(), dict(), dict()\n",
    "    for i in range(2):\n",
    "        fpr[i], tpr[i], _ = roc_curve(y_true[:, i], y_pred[:, i])\n",
    "        roc_auc[i] = auc(fpr[i], tpr[i])\n",
    "    # Compute micro-average ROC curve and ROC area\n",
    "    fpr[\"micro\"], tpr[\"micro\"], _ = roc_curve(y_true.ravel(), y_pred.ravel())\n",
    "    roc_auc[\"micro\"] = auc(fpr[\"micro\"], tpr[\"micro\"])\n",
    "    return fpr, tpr, roc_auc"
   ]
  },
  {
   "cell_type": "code",
   "execution_count": 88,
   "metadata": {},
   "outputs": [],
   "source": [
    "fpr_lr, tpr_lr, roc_auc_lr = [], [], []\n",
    "for y_true, y_pred in zip(y_test_2D, y_pred_test_lr_probas_2D):\n",
    "    fpr, tpr, roc_auc = create_roc_auc(y_true, y_pred)\n",
    "    fpr_lr.append(fpr)\n",
    "    tpr_lr.append(tpr)\n",
    "    roc_auc_lr.append(roc_auc)\n",
    "fpr_lr_mean = np.mean"
   ]
  },
  {
   "cell_type": "code",
   "execution_count": 114,
   "metadata": {},
   "outputs": [
    {
     "data": {
      "text/plain": [
       "array([0.        , 0.77995321, 0.94645276, 0.97385966, 0.98393935,\n",
       "       0.98967404, 0.99248861, 0.99454677, 0.99579573, 0.99667529,\n",
       "       0.99720302, 0.99769557, 0.99794184, 0.99806498, 0.99815294,\n",
       "       0.99836403, 0.99846958, 0.99857512, 0.9986279 , 0.99868067,\n",
       "       0.99871585, 0.99876862, 0.99878622, 0.99880381, 0.99885658,\n",
       "       0.99887417, 0.99890935, 0.99896213, 0.99896213, 0.99903249,\n",
       "       0.99908526, 0.99912045, 0.99915563, 0.99917322, 0.9992084 ,\n",
       "       0.99926117, 0.99927877, 0.99931395, 0.99931395, 0.99934913,\n",
       "       0.99934913, 0.99936672, 0.99943709, 0.99943709, 0.99947227,\n",
       "       0.99948986, 0.99948986, 0.99950745, 0.99950745, 0.99954263,\n",
       "       0.99954263, 0.99957781, 0.99959541, 0.99959541, 0.999613  ,\n",
       "       0.999613  , 0.99966577, 0.99970095, 0.99970095, 0.99975372,\n",
       "       0.99975372, 0.99977132, 0.99977132, 0.99978891, 0.99978891,\n",
       "       0.99982409, 0.99982409, 0.99984168, 0.99984168, 0.99985927,\n",
       "       0.99985927, 0.99987686, 0.99987686, 0.99987686, 0.99989445,\n",
       "       0.99989445, 0.99991204, 0.99991204, 0.99991204, 0.99992964,\n",
       "       0.99992964, 0.99994723, 0.99996482, 0.99996482, 1.        ])"
      ]
     },
     "execution_count": 114,
     "metadata": {},
     "output_type": "execute_result"
    }
   ],
   "source": [
    "#np.mean([fpr_lr[0], fpr_lr[1]], axis=0)\n",
    "#f=[fpr[1] for fpr in fpr_lr]\n",
    "t=[tpr[1] for tpr in tpr_lr]\n",
    "t[0]#[3]-f[0][2]"
   ]
  },
  {
   "cell_type": "code",
   "execution_count": 117,
   "metadata": {},
   "outputs": [
    {
     "data": {
      "image/png": "[encoded data removed]",
      "text/plain": [
       "<Figure size 432x288 with 1 Axes>"
      ]
     },
     "metadata": {
      "needs_background": "light"
     },
     "output_type": "display_data"
    }
   ],
   "source": [
    "fpr = fpr_lr[2]\n",
    "tpr = tpr_lr[2]\n",
    "roc_auc = roc_auc_lr[2]\n",
    "plt.figure()\n",
    "lw = 2\n",
    "plt.plot(fpr[1], tpr[1], color='darkorange',\n",
    "         lw=lw, label='ROC curve (area = %0.2f)' % roc_auc[1])\n",
    "\n",
    "fpr = fpr_lr[0]\n",
    "tpr = tpr_lr[0]\n",
    "roc_auc = roc_auc_lr[0]\n",
    "plt.plot(fpr[1], tpr[1], color='darkorange',\n",
    "         lw=lw, label='ROC curve (area = %0.2f)' % roc_auc[1])\n",
    "\n",
    "fpr = fpr_lr[1]\n",
    "tpr = tpr_lr[1]\n",
    "roc_auc = roc_auc_lr[1]\n",
    "plt.plot(fpr[1], tpr[1], color='darkorange',\n",
    "         lw=lw, label='ROC curve (area = %0.2f)' % roc_auc[1])\n",
    "fpr = fpr_lr[3]\n",
    "tpr = tpr_lr[3]\n",
    "roc_auc = roc_auc_lr[3]\n",
    "plt.plot(fpr[1], tpr[1], color='darkorange',\n",
    "         lw=lw, label='ROC curve (area = %0.2f)' % roc_auc[1])\n",
    "fpr = fpr_lr[4]\n",
    "tpr = tpr_lr[4]\n",
    "roc_auc = roc_auc_lr[4]\n",
    "plt.plot(fpr[1], tpr[1], color='darkorange',\n",
    "         lw=lw, label='ROC curve (area = %0.2f)' % roc_auc[1])\n",
    "\n",
    "plt.plot([0, 1], [0, 1], color='navy', lw=lw, linestyle='--')\n",
    "plt.xlim([0.0, 1.0])\n",
    "plt.ylim([0.0, 1.05])\n",
    "plt.xlabel('False Positive Rate')\n",
    "plt.ylabel('True Positive Rate')\n",
    "plt.title('Receiver operating characteristic example')\n",
    "plt.legend(loc=\"lower right\")\n",
    "plt.show()"
   ]
  },
  {
   "cell_type": "code",
   "execution_count": 107,
   "metadata": {},
   "outputs": [],
   "source": [
    "?auc"
   ]
  },
  {
   "cell_type": "code",
   "execution_count": null,
   "metadata": {},
   "outputs": [],
   "source": []
  },
  {
   "cell_type": "code",
   "execution_count": null,
   "metadata": {},
   "outputs": [],
   "source": []
  },
  {
   "cell_type": "code",
   "execution_count": null,
   "metadata": {},
   "outputs": [],
   "source": []
  },
  {
   "cell_type": "code",
   "execution_count": null,
   "metadata": {},
   "outputs": [],
   "source": []
  },
  {
   "cell_type": "code",
   "execution_count": null,
   "metadata": {},
   "outputs": [],
   "source": []
  },
  {
   "cell_type": "code",
   "execution_count": null,
   "metadata": {},
   "outputs": [],
   "source": []
  }
 ],
 "metadata": {
  "kernelspec": {
   "display_name": "Python 3",
   "language": "python",
   "name": "python3"
  },
  "language_info": {
   "codemirror_mode": {
    "name": "ipython",
    "version": 3
   },
   "file_extension": ".py",
   "mimetype": "text/x-python",
   "name": "python",
   "nbconvert_exporter": "python",
   "pygments_lexer": "ipython3",
   "version": "3.6.6"
  }
 },
 "nbformat": 4,
 "nbformat_minor": 2
}
